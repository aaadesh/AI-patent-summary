{
 "cells": [
  {
   "cell_type": "markdown",
   "id": "fe12c203-e6a6-452c-a655-afb8a03a4ff5",
   "metadata": {},
   "source": [
    "# Calling OpenAI API to summarize a patent\n",
    "\n",
    "First we get the patent details from Google and use it to prepare a prompt for calling the API. Then we build a user interface around the function."
   ]
  },
  {
   "cell_type": "code",
   "execution_count": 29,
   "id": "c1070317-3ed9-4659-abe3-828943230e03",
   "metadata": {},
   "outputs": [],
   "source": [
    "# imports\n",
    "from bs4 import BeautifulSoup\n",
    "import requests\n",
    "from openai import OpenAI\n",
    "from dotenv import load_dotenv\n",
    "import os\n",
    "import gradio as gr\n",
    "import google.generativeai as genai"
   ]
  },
  {
   "cell_type": "code",
   "execution_count": 30,
   "id": "4a456906-915a-4bfd-bb9d-57e505c5093f",
   "metadata": {},
   "outputs": [],
   "source": [
    "# set the model\n",
    "\n",
    "MODEL_GPT = 'gpt-4o-mini'\n",
    "MODEL_GEMINI = genai.GenerativeModel(\"gemini-1.5-flash\")\n",
    "\n"
   ]
  },
  {
   "cell_type": "code",
   "execution_count": 31,
   "id": "a8d7923c-5f28-4c30-8556-342d7c8497c1",
   "metadata": {},
   "outputs": [
    {
     "name": "stdout",
     "output_type": "stream",
     "text": [
      "API key looks good so far\n"
     ]
    }
   ],
   "source": [
    "# set up environment\n",
    "load_dotenv(override=True)\n",
    "api_key = os.getenv('OPENAI_API_KEY')\n",
    "gemini_key = os.getenv('GEMINI_API_KEY')\n",
    "\n",
    "\n",
    "\n",
    "if api_key and api_key.startswith('sk-proj-') and len(api_key)>10:\n",
    "    print(\"API key looks good so far\")\n",
    "else:\n",
    "    print(\"There might be a problem with your API key? Please visit the troubleshooting notebook!\")\n",
    "    "
   ]
  },
  {
   "cell_type": "code",
   "execution_count": 32,
   "id": "22b284e9-abb2-454b-9a82-f97d03d0ba40",
   "metadata": {},
   "outputs": [],
   "source": [
    "# scraping patent\n",
    "def get_patent_details(patnum):\n",
    "    \n",
    "    url = \"https://patents.google.com/patent/\" + patnum\n",
    "    response = requests.get(url)\n",
    "    soup = BeautifulSoup(response.content, 'html.parser')\n",
    "    \n",
    "    title = soup.title.string if soup.title else \"No title found\"        \n",
    "    \n",
    "    full_text = soup.body.get_text(separator=\"\\n\", strip=True)\n",
    "    \n",
    "    first_clm= soup.find('div', attrs={'id':\"CLM-00001\"})\n",
    "    if first_clm != None:\n",
    "        first_claim = first_clm.text.strip()\n",
    "    else:\n",
    "        first_claim = \"N/A\"\n",
    "    \n",
    "    first_claim\n",
    "\n",
    "    result = title + first_claim + full_text\n",
    "\n",
    "    if result:\n",
    "        return result\n",
    "    else:\n",
    "        return \"patent details not found\"\n"
   ]
  },
  {
   "cell_type": "code",
   "execution_count": 33,
   "id": "3f0d0137-52b0-47a8-81a8-11a90a010798",
   "metadata": {},
   "outputs": [],
   "source": [
    "# system prompt\n",
    "\n",
    "system_prompt = \"\"\"You are a patent analyst who can understand patents and provide a summary that can be understood by a layman \\\n",
    "and also includes the technical aspects. The technical aspects are explained properly so that a layman can understand. \\\n",
    "Make sure the sentences are well-written, structured and connected to present information in a flow. Dont use long sentences.\n",
    "\n",
    "Please provide the summary of the claim. There should be 2-3 paragraphs at maximum. In the first paragraph, focus the explanation on claims. Understand the scope of claim elements from the patent text provided below.\n",
    "In the second paragraph, focus on the problem being solved by the patent and the advantages it brings.  \n",
    "\n",
    "Here is an example of a patent summary:\n",
    "The patent claims a vehicle which runs two operating systems simultaneously. These opearting systems run independently on a separate execution environments on shared kernel but \\\n",
    "the second operating system is not based on the shared kernel. The operating systems run separate application frameworks and the applications running on the second operating system \\\n",
    "are not compatible with the first operating system. This allows execution of applications generally not supported by vehicles with just one operating systems. THis allows access to a \\\n",
    "user's mobile applications on the vehicle display panel.\n",
    "\n",
    "This summary was based on this claim and some excerpts from the patent (not provided below).\n",
    "A vehicle, comprising:\n",
    "a power source to propel the vehicle;\n",
    "a display panel to provide graphical information to a vehicle occupant; and\n",
    "an on board processing module, comprising:\n",
    "a first operating system running in a first execution environment on a shared kernel, \n",
    "the first operating system having a first application framework supporting a first vehicle-related application; and\n",
    "a second operating system running concurrently with the first operating system\n",
    "in a second execution environment on the shared kernel, the second operating system having a second application framework supporting a second vehicle-related\n",
    "application, wherein the second vehicle-related application is incompatible with the first application framework,\n",
    "\n",
    "wherein the first operating system is based on the shared kernel and the second operating system is not based on the shared kernel\n",
    "wherein the first and second operating systems run independently on the shared kernel, \n",
    "wherein at least one of the first and second vehicle-related applications is one of the following:\n",
    "a vehicle control application, an application associated with at least one vehicle function, an application related to a handicap and\n",
    "accessibility graphical user interface for the display panel, an email client, a web browser, a communications application, a game,\n",
    "an entertainment application, a vehicle satellite positioning system receiver application, an automotive navigation application, a medical information application,\n",
    "an emergency service application, a noise suppression application, a news-related application, \n",
    "a weather information-related application, a biometric application, a travel application, or a utility application.\n",
    "\"\"\"\n"
   ]
  },
  {
   "cell_type": "code",
   "execution_count": 43,
   "id": "557d5102-49c3-44cb-97b0-a77013d4de49",
   "metadata": {},
   "outputs": [],
   "source": [
    "# user prompt\n",
    "def get_user_prompt(patnum):\n",
    "    patnumber = str(patnum)\n",
    "    #print(patnumber)\n",
    "    user_prompt = \"Please provide summary of the patent. Here is patent number, title, first claim and full text of the patent:\\n\"\n",
    "    user_prompt = user_prompt + patnum + \"\\n\"\n",
    "    user_prompt += get_patent_details(patnumber)\n",
    "    return user_prompt"
   ]
  },
  {
   "cell_type": "code",
   "execution_count": 44,
   "id": "20065c4f-8587-47bf-862e-fcd0b2d0aacf",
   "metadata": {},
   "outputs": [],
   "source": [
    "#request Gemini\n",
    "\n",
    "def get_summary_gemini(patnum):\n",
    "    print(f\"Fetching summary for patent {patnum} from gemini.\")\n",
    "    genai.configure()\n",
    "    gemini = genai.GenerativeModel(\n",
    "        model_name='gemini-1.5-flash',\n",
    "        system_instruction=system_prompt\n",
    "    )\n",
    "    gemini_response = gemini.generate_content(get_user_prompt(patnum), stream = True)\n",
    "    \n",
    "    results = \"\"\n",
    "    for chunk in gemini_response:\n",
    "        results += chunk.text or \"\"\n",
    "        yield results"
   ]
  },
  {
   "cell_type": "code",
   "execution_count": 45,
   "id": "8f7c8ea8-4082-4ad0-8751-3301adcf6538",
   "metadata": {},
   "outputs": [],
   "source": [
    "# request openAI\n",
    "\n",
    "def get_summary_openai(patnum):\n",
    "    print(f\"Fetching summary for patent {patnum} from OpenAI.\")\n",
    "    openai = OpenAI()\n",
    "    user_prompt = get_user_prompt(patnum)\n",
    "    prompts = [\n",
    "    {\"role\": \"system\", \"content\": system_prompt},\n",
    "    {\"role\": \"user\", \"content\": user_prompt}\n",
    "    ]\n",
    "\n",
    "    openai_response = openai.chat.completions.create(model=\"gpt-4o-mini\", messages=prompts, stream = True)\n",
    "\n",
    "    results = \"\"\n",
    "    for chunk in openai_response:\n",
    "        results += chunk.choices[0].delta.content or \"\"\n",
    "        #print(results)\n",
    "        yield results"
   ]
  },
  {
   "cell_type": "code",
   "execution_count": 46,
   "id": "406993b2-9ce7-4758-9c5b-5153fa88c444",
   "metadata": {},
   "outputs": [
    {
     "name": "stdout",
     "output_type": "stream",
     "text": [
      "* Running on local URL:  http://127.0.0.1:7871\n",
      "\n",
      "To create a public link, set `share=True` in `launch()`.\n"
     ]
    },
    {
     "data": {
      "text/html": [
       "<div><iframe src=\"http://127.0.0.1:7871/\" width=\"100%\" height=\"500\" allow=\"autoplay; camera; microphone; clipboard-read; clipboard-write;\" frameborder=\"0\" allowfullscreen></iframe></div>"
      ],
      "text/plain": [
       "<IPython.core.display.HTML object>"
      ]
     },
     "metadata": {},
     "output_type": "display_data"
    },
    {
     "data": {
      "text/plain": []
     },
     "execution_count": 46,
     "metadata": {},
     "output_type": "execute_result"
    },
    {
     "name": "stdout",
     "output_type": "stream",
     "text": [
      "Fetching summary for patent US10000000 from OpenAI.\n",
      "Fetching summary for patent US10000000 from gemini.\n"
     ]
    }
   ],
   "source": [
    "# Gradio \n",
    "with gr.Blocks() as ui:\n",
    "    gr.Markdown(\"## Patent Summary Generator\")\n",
    "\n",
    "    with gr.Row():\n",
    "        patent_input = gr.Textbox(label=\"Enter the Patent Number\", placeholder=\"e.g., US12345678\")\n",
    "\n",
    "    with gr.Row():\n",
    "        fetch_openai = gr.Button(\"Get OpenAI Summary\")\n",
    "        fetch_gemini = gr.Button(\"Get Gemini Summary\")\n",
    "    \n",
    "    with gr.Row():\n",
    "        with gr.Column():\n",
    "            gr.Markdown(\"### OpenAI Summary:\")\n",
    "            openai_summary = gr.Markdown()\n",
    "\n",
    "        with gr.Column():\n",
    "            gr.Markdown(\"### Gemini Summary:\")\n",
    "            gemini_summary = gr.Markdown()\n",
    "\n",
    "    fetch_openai.click(get_summary_openai, inputs=[patent_input], outputs=[openai_summary])\n",
    "    fetch_gemini.click(get_summary_gemini, inputs=[patent_input], outputs=[gemini_summary])\n",
    "\n",
    "ui.launch()"
   ]
  },
  {
   "cell_type": "code",
   "execution_count": null,
   "id": "a7f0aa9a-0ea4-408b-8be7-a7f161a4b680",
   "metadata": {},
   "outputs": [],
   "source": []
  },
  {
   "cell_type": "code",
   "execution_count": null,
   "id": "00caba4a-588d-4887-88c4-34963ce2b9dc",
   "metadata": {},
   "outputs": [],
   "source": []
  }
 ],
 "metadata": {
  "kernelspec": {
   "display_name": "Python 3 (ipykernel)",
   "language": "python",
   "name": "python3"
  },
  "language_info": {
   "codemirror_mode": {
    "name": "ipython",
    "version": 3
   },
   "file_extension": ".py",
   "mimetype": "text/x-python",
   "name": "python",
   "nbconvert_exporter": "python",
   "pygments_lexer": "ipython3",
   "version": "3.11.11"
  }
 },
 "nbformat": 4,
 "nbformat_minor": 5
}
